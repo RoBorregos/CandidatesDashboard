{
 "cells": [
  {
   "cell_type": "code",
   "execution_count": null,
   "metadata": {},
   "outputs": [],
   "source": [
    "from sqlalchemy import create_engine, Column, Integer, String, Float\n",
    "from sqlalchemy.orm import sessionmaker, declarative_base\n",
    "from dotenv import load_dotenv\n",
    "import os\n",
    "import pandas as pd\n",
    "import typer\n",
    "from sqlalchemy.dialects.postgresql import UUID\n",
    "import uuid\n",
    "Base = declarative_base()\n",
    "\n"
   ]
  },
  {
   "cell_type": "code",
   "execution_count": null,
   "metadata": {},
   "outputs": [],
   "source": [
    "class Round(Base):\n",
    "    id = Column(UUID(as_uuid=True), primary_key=True, default=uuid.uuid4)\n",
    "    name = Column(String, primary_key=True)\n",
    "    id = Column(UUID(as_uuid=True), primary_key=True, default=uuid.uuid4)\n",
    "    name = Column(String, primary_key=True)"
   ]
  }
 ],
 "metadata": {
  "kernelspec": {
   "display_name": "base",
   "language": "python",
   "name": "python3"
  },
  "language_info": {
   "name": "python",
   "version": "3.12.2"
  }
 },
 "nbformat": 4,
 "nbformat_minor": 2
}
